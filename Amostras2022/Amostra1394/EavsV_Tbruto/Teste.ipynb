{
 "cells": [
  {
   "cell_type": "code",
   "execution_count": 3,
   "metadata": {},
   "outputs": [],
   "source": [
    "import numpy as np\n",
    "import matplotlib.pyplot as plt\n",
    "import pandas as pd\n",
    "import glob\n",
    "import dataframe_image as dfi\n"
   ]
  },
  {
   "cell_type": "code",
   "execution_count": 38,
   "metadata": {},
   "outputs": [
    {
     "ename": "TypeError",
     "evalue": "'DataFrame' object is not callable",
     "output_type": "error",
     "traceback": [
      "\u001b[0;31m---------------------------------------------------------------------------\u001b[0m",
      "\u001b[0;31mTypeError\u001b[0m                                 Traceback (most recent call last)",
      "\u001b[1;32m/home/luis11/Documentos/DadosIvsV/TratamentoDados/Amostras2022/Amostra1394/EavsV_Tbruto/Teste.ipynb Cell 2\u001b[0m in \u001b[0;36m<cell line: 13>\u001b[0;34m()\u001b[0m\n\u001b[1;32m     <a href='vscode-notebook-cell:/home/luis11/Documentos/DadosIvsV/TratamentoDados/Amostras2022/Amostra1394/EavsV_Tbruto/Teste.ipynb#W1sZmlsZQ%3D%3D?line=15'>16</a>\u001b[0m     df\n\u001b[1;32m     <a href='vscode-notebook-cell:/home/luis11/Documentos/DadosIvsV/TratamentoDados/Amostras2022/Amostra1394/EavsV_Tbruto/Teste.ipynb#W1sZmlsZQ%3D%3D?line=16'>17</a>\u001b[0m     \u001b[39m# print(table_name[i])\u001b[39;00m\n\u001b[1;32m     <a href='vscode-notebook-cell:/home/luis11/Documentos/DadosIvsV/TratamentoDados/Amostras2022/Amostra1394/EavsV_Tbruto/Teste.ipynb#W1sZmlsZQ%3D%3D?line=17'>18</a>\u001b[0m     \u001b[39m# print(d)\u001b[39;00m\n\u001b[0;32m---> <a href='vscode-notebook-cell:/home/luis11/Documentos/DadosIvsV/TratamentoDados/Amostras2022/Amostra1394/EavsV_Tbruto/Teste.ipynb#W1sZmlsZQ%3D%3D?line=18'>19</a>\u001b[0m     list01\u001b[39m.\u001b[39mappend(df(\u001b[39m'\u001b[39;49m\u001b[39mEa(meV)\u001b[39;49m\u001b[39m'\u001b[39;49m\u001b[39m+\u001b[39;49m\u001b[39mstr\u001b[39;49m(table_name[i])))\n\u001b[1;32m     <a href='vscode-notebook-cell:/home/luis11/Documentos/DadosIvsV/TratamentoDados/Amostras2022/Amostra1394/EavsV_Tbruto/Teste.ipynb#W1sZmlsZQ%3D%3D?line=20'>21</a>\u001b[0m \u001b[39m# Pasando a numpy arrays:\u001b[39;00m\n\u001b[1;32m     <a href='vscode-notebook-cell:/home/luis11/Documentos/DadosIvsV/TratamentoDados/Amostras2022/Amostra1394/EavsV_Tbruto/Teste.ipynb#W1sZmlsZQ%3D%3D?line=21'>22</a>\u001b[0m \u001b[39mprint\u001b[39m(list01)\n",
      "\u001b[0;31mTypeError\u001b[0m: 'DataFrame' object is not callable"
     ]
    }
   ],
   "source": [
    "\n",
    "b = glob.glob('./*Res.txt')\n",
    "\n",
    "# Renomeando o nome das tabelas\n",
    "c = np.char.replace(np.array(b), '_Terra07MelhorRes.txt', '')\n",
    "table_name = np.char.replace(c, './Ea1394', '')\n",
    "\n",
    "# Nomes das columnas do Dataframe:\n",
    "columns_names_inicial[i] = ['Angular Coef.', 'Erro Coef. Ang.', 'Tensão (V)', 'Ea (eV)', 'Erro-Ea (eV)',  'Ea(meV)'+str(table_name[i]), 'Erro-Ea(meV)']\n",
    "\n",
    "# Listas de Data Frame de energia de activação para diferentes mesas:\n",
    "list01 = []\n",
    "\n",
    "for i in range(len(b)):\n",
    "    \n",
    "    df = pd.read_csv(b[i],  names = ['Angular Coef.', 'Erro Coef. Ang.', 'Tensão (V)', 'Ea (eV)', 'Erro-Ea (eV)',  'Ea(meV)'+str(table_name[i]), 'Erro-Ea(meV)'] )\n",
    "    df\n",
    "    # print(table_name[i])\n",
    "    # print(d)\n",
    "    list01.append(df['Ea(meV)'+str(table_name[i])])\n",
    "\n",
    "# Pasando a numpy arrays:\n",
    "print(list01)\n"
   ]
  },
  {
   "cell_type": "code",
   "execution_count": 5,
   "metadata": {},
   "outputs": [
    {
     "ename": "IndexError",
     "evalue": "index 0 is out of bounds for axis 0 with size 0",
     "output_type": "error",
     "traceback": [
      "\u001b[0;31m---------------------------------------------------------------------------\u001b[0m",
      "\u001b[0;31mIndexError\u001b[0m                                Traceback (most recent call last)",
      "\u001b[1;32m/home/luis11/Documentos/DadosIvsV/TratamentoDados/Amostras2022/Amostra1394/EavsV_Tbruto/Teste.ipynb Cell 3\u001b[0m in \u001b[0;36m<cell line: 1>\u001b[0;34m()\u001b[0m\n\u001b[0;32m----> <a href='vscode-notebook-cell:/home/luis11/Documentos/DadosIvsV/TratamentoDados/Amostras2022/Amostra1394/EavsV_Tbruto/Teste.ipynb#W2sZmlsZQ%3D%3D?line=0'>1</a>\u001b[0m m \u001b[39m=\u001b[39m array01[\u001b[39m0\u001b[39;49m][\u001b[39m1\u001b[39m]\n\u001b[1;32m      <a href='vscode-notebook-cell:/home/luis11/Documentos/DadosIvsV/TratamentoDados/Amostras2022/Amostra1394/EavsV_Tbruto/Teste.ipynb#W2sZmlsZQ%3D%3D?line=1'>2</a>\u001b[0m df02 \u001b[39m=\u001b[39m m\u001b[39m.\u001b[39miloc[[\u001b[39m0\u001b[39m, \u001b[39m1\u001b[39m, \u001b[39m2\u001b[39m,\u001b[39m3\u001b[39m, \u001b[39m48\u001b[39m, \u001b[39m49\u001b[39m, \u001b[39m50\u001b[39m, \u001b[39m51\u001b[39m, \u001b[39m52\u001b[39m, \u001b[39m97\u001b[39m, \u001b[39m98\u001b[39m, \u001b[39m99\u001b[39m, \u001b[39m100\u001b[39m]]\n",
      "\u001b[0;31mIndexError\u001b[0m: index 0 is out of bounds for axis 0 with size 0"
     ]
    }
   ],
   "source": [
    "m = array01[0][1]\n",
    "df02 = m.iloc[[0, 1, 2,3, 48, 49, 50, 51, 52, 97, 98, 99, 100]]\n",
    "\n",
    "# dfi.export(df02, 'EavsV.png')\n"
   ]
  },
  {
   "cell_type": "code",
   "execution_count": null,
   "metadata": {},
   "outputs": [],
   "source": []
  }
 ],
 "metadata": {
  "kernelspec": {
   "display_name": "Python 3.9.7 ('base')",
   "language": "python",
   "name": "python3"
  },
  "language_info": {
   "codemirror_mode": {
    "name": "ipython",
    "version": 3
   },
   "file_extension": ".py",
   "mimetype": "text/x-python",
   "name": "python",
   "nbconvert_exporter": "python",
   "pygments_lexer": "ipython3",
   "version": "3.9.7"
  },
  "orig_nbformat": 4,
  "vscode": {
   "interpreter": {
    "hash": "6f6521fbd1d9fb59d853ef70361a6e185f5a9eafeab38228ac496633028d741e"
   }
  }
 },
 "nbformat": 4,
 "nbformat_minor": 2
}
